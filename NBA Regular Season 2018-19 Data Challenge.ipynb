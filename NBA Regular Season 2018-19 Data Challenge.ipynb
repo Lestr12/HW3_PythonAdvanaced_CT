{
 "cells": [
  {
   "cell_type": "markdown",
   "metadata": {},
   "source": [
    "# Nba Regular Season 2018-19 Data Challenge\n",
    "\n",
    "Your task will be to take the dataset given, and create an analysis answering the following 10 questions. This project will again test your knowledge of pandas in order to find the answers needed given the data you are presented with."
   ]
  },
  {
   "cell_type": "markdown",
   "metadata": {},
   "source": [
    "# What was the average age of player in the league?"
   ]
  },
  {
   "cell_type": "code",
   "execution_count": 3,
   "metadata": {},
   "outputs": [
    {
     "name": "stdout",
     "output_type": "stream",
     "text": [
      "Index(['Name', 'Height', 'Weight', 'Team', 'Age', 'Salary', 'Points', 'Blocks',\n",
      "       'Steals', 'Assists', 'Rebounds', 'FT%', 'FTA', 'FG3%', 'FG3A', 'FG%',\n",
      "       'FGA', 'MP', 'G', 'PER', 'OWS', 'DWS', 'WS', 'WS48', 'USG', 'BPM',\n",
      "       'VORP'],\n",
      "      dtype='object')\n",
      "The average age of players in the NBA 2018-2019 season was: 25.90 years\n"
     ]
    }
   ],
   "source": [
    "import pandas as pd\n",
    "\n",
    "df = pd.read_csv('nbastats2018-2019 - nbastats2018-2019.csv')\n",
    "\n",
    "print(df.columns)\n",
    "\n",
    "average_age = df['Age'].mean()\n",
    "\n",
    "print(f\"The average age of players in the NBA 2018-2019 season was: {average_age:.2f} years\")\n"
   ]
  },
  {
   "cell_type": "markdown",
   "metadata": {},
   "source": [
    "# What player scored the most points?"
   ]
  },
  {
   "cell_type": "code",
   "execution_count": 28,
   "metadata": {},
   "outputs": [
    {
     "name": "stdout",
     "output_type": "stream",
     "text": [
      "Columns in the dataset:\n",
      "Index(['Name', 'Height', 'Weight', 'Team', 'Age', 'Salary', 'Points', 'Blocks',\n",
      "       'Steals', 'Assists', 'Rebounds', 'FT%', 'FTA', 'FG3%', 'FG3A', 'FG%',\n",
      "       'FGA', 'MP', 'G', 'PER', 'OWS', 'DWS', 'WS', 'WS48', 'USG', 'BPM',\n",
      "       'VORP'],\n",
      "      dtype='object')\n",
      "\n",
      "The player who scored the highest points was James Harden with 36.1 points.\n"
     ]
    }
   ],
   "source": [
    "import pandas as pd\n",
    "\n",
    "df = pd.read_csv('nbastats2018-2019 - nbastats2018-2019.csv')\n",
    "\n",
    "print(\"Columns in the dataset:\")\n",
    "print(df.columns)\n",
    "\n",
    "max_points_player = df.loc[df['Points'].idxmax()]\n",
    "\n",
    "player_name = max_points_player['Name']\n",
    "points_scored = max_points_player['Points']\n",
    "\n",
    "print(f\"\\nThe player who scored the highest points was {player_name} with {points_scored} points.\")\n"
   ]
  },
  {
   "cell_type": "markdown",
   "metadata": {},
   "source": [
    "# Based on the regular season, who had the best chance to win a title given their win percentage?"
   ]
  },
  {
   "cell_type": "code",
   "execution_count": 27,
   "metadata": {},
   "outputs": [
    {
     "name": "stdout",
     "output_type": "stream",
     "text": [
      "The team with the best chance to win is Milwaukee Bucks with 20.00%.\n"
     ]
    }
   ],
   "source": [
    "import pandas as pd\n",
    "\n",
    "df = pd.read_csv('nbastats2018-2019 - nbastats2018-2019.csv')\n",
    "\n",
    "df['Win_Percentage'] = df['WS'] / df['G']  \n",
    "\n",
    "best_team = df.loc[df['Win_Percentage'].idxmax()]\n",
    "\n",
    "team_name = best_team['Team']\n",
    "win_percentage = best_team['Win_Percentage']\n",
    "\n",
    "print(f\"The team with the best chance to win is {team_name} with {win_percentage:.2%}.\")\n"
   ]
  },
  {
   "cell_type": "markdown",
   "metadata": {},
   "source": [
    "# What player had the best 3-pt percentage? "
   ]
  },
  {
   "cell_type": "code",
   "execution_count": 15,
   "metadata": {},
   "outputs": [
    {
     "name": "stdout",
     "output_type": "stream",
     "text": [
      "The player with the best Three-Point Field Goal Percentage (FG3%) in the NBA 2018-2019 season was Trevon Duval with a FG3% of 1.00%.\n"
     ]
    }
   ],
   "source": [
    "import pandas as pd\n",
    "\n",
    "df = pd.read_csv('nbastats2018-2019 - nbastats2018-2019.csv')\n",
    "\n",
    "best_3P_player = df.loc[df['FG3%'].idxmax()]\n",
    "\n",
    "player_name = best_3P_player['Name']\n",
    "three_point_percentage = best_3P_player['FG3%']\n",
    "\n",
    "\n",
    "print(f\"The player with the best Three-Point Field Goal Percentage (FG3%) in the NBA 2018-2019 season was {player_name} with a FG3% of {three_point_percentage:.2f}%.\")\n"
   ]
  },
  {
   "cell_type": "markdown",
   "metadata": {},
   "source": [
    "# Who played the most minutes during the season"
   ]
  },
  {
   "cell_type": "code",
   "execution_count": 16,
   "metadata": {},
   "outputs": [
    {
     "name": "stdout",
     "output_type": "stream",
     "text": [
      "The player who played the most minutes during the NBA 2018-2019 season was Bradley Beal.\n"
     ]
    }
   ],
   "source": [
    "import pandas as pd\n",
    "\n",
    "df = pd.read_csv('nbastats2018-2019 - nbastats2018-2019.csv')\n",
    "\n",
    "most_minutes_player = df.loc[df['MP'].idxmax()]\n",
    "\n",
    "player_name = most_minutes_player['Name']\n",
    "\n",
    "print(f\"The player who played the most minutes during the NBA season was {player_name}.\")\n"
   ]
  },
  {
   "cell_type": "markdown",
   "metadata": {},
   "source": [
    "# What player given their player effiecency rating was the clutchest during the season?"
   ]
  },
  {
   "cell_type": "code",
   "execution_count": 21,
   "metadata": {},
   "outputs": [
    {
     "name": "stdout",
     "output_type": "stream",
     "text": [
      "The clutchest player during the NBA season based on (PER) was Zhou Qi.\n"
     ]
    }
   ],
   "source": [
    "import pandas as pd\n",
    "\n",
    "df = pd.read_csv('nbastats2018-2019 - nbastats2018-2019.csv')\n",
    "\n",
    "clutchest_player = df.loc[df['PER'].idxmax()]\n",
    "\n",
    "player_name = clutchest_player['Name']\n",
    "\n",
    "print(f\"The clutchest player during the NBA season based on (PER) was {player_name}.\")\n"
   ]
  },
  {
   "cell_type": "markdown",
   "metadata": {},
   "source": [
    "# What team had the youngest roster?"
   ]
  },
  {
   "cell_type": "code",
   "execution_count": 22,
   "metadata": {},
   "outputs": [
    {
     "name": "stdout",
     "output_type": "stream",
     "text": [
      "The team with the youngest roster is Chicago Bulls.\n"
     ]
    }
   ],
   "source": [
    "import pandas as pd\n",
    "\n",
    "df = pd.read_csv('nbastats2018-2019 - nbastats2018-2019.csv')\n",
    "\n",
    "avg_age_by_team = df.groupby('Team')['Age'].mean()\n",
    "\n",
    "youngest_team = avg_age_by_team.idxmin()\n",
    "\n",
    "print(f\"The team with the youngest roster is {youngest_team}.\")\n"
   ]
  },
  {
   "cell_type": "markdown",
   "metadata": {},
   "source": [
    "# Who is the highest paid player during the seasion?"
   ]
  },
  {
   "cell_type": "code",
   "execution_count": 23,
   "metadata": {},
   "outputs": [
    {
     "name": "stdout",
     "output_type": "stream",
     "text": [
      "The highest paid player in the NBA is John Jenkins.\n"
     ]
    }
   ],
   "source": [
    "import pandas as pd\n",
    "\n",
    "df = pd.read_csv('nbastats2018-2019 - nbastats2018-2019.csv')\n",
    "\n",
    "highest_paid_player = df.loc[df['Salary'].idxmax()]\n",
    "\n",
    "player_name = highest_paid_player['Name']\n",
    "\n",
    "print(f\"The highest paid player in the NBA is {player_name}.\")\n"
   ]
  },
  {
   "cell_type": "markdown",
   "metadata": {},
   "source": [
    "# At the end of a game, who WOULDN'T you want on the Free Throw Line?"
   ]
  },
  {
   "cell_type": "code",
   "execution_count": 24,
   "metadata": {},
   "outputs": [
    {
     "name": "stdout",
     "output_type": "stream",
     "text": [
      "The player you wouldn't want is Jacob Evans.\n"
     ]
    }
   ],
   "source": [
    "import pandas as pd\n",
    "\n",
    "df = pd.read_csv('nbastats2018-2019 - nbastats2018-2019.csv')\n",
    "\n",
    "worst_FT_player = df.loc[df['FT%'].idxmin()]\n",
    "\n",
    "player_name = worst_FT_player['Name']\n",
    "\n",
    "print(f\"The player you wouldn't want is {player_name}.\")\n"
   ]
  }
 ],
 "metadata": {
  "kernelspec": {
   "display_name": "Python 3",
   "language": "python",
   "name": "python3"
  },
  "language_info": {
   "codemirror_mode": {
    "name": "ipython",
    "version": 3
   },
   "file_extension": ".py",
   "mimetype": "text/x-python",
   "name": "python",
   "nbconvert_exporter": "python",
   "pygments_lexer": "ipython3",
   "version": "3.10.6"
  }
 },
 "nbformat": 4,
 "nbformat_minor": 2
}
